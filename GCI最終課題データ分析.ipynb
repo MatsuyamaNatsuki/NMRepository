{
 "cells": [
  {
   "cell_type": "code",
   "execution_count": 1,
   "metadata": {},
   "outputs": [],
   "source": [
    "import numpy as np\n",
    "import pandas as pd"
   ]
  },
  {
   "cell_type": "code",
   "execution_count": null,
   "metadata": {},
   "outputs": [],
   "source": [
    "pwd"
   ]
  },
  {
   "cell_type": "code",
   "execution_count": 2,
   "metadata": {},
   "outputs": [],
   "source": [
    "path = '/Users/matsuyamanatsuki/Desktop/homecredit/'\n",
    "train = pd.read_csv(path + 'application_train.csv')\n",
    "test = pd.read_csv(path + 'application_test.csv')\n",
    "\n",
    "previous_application = pd.read_csv(path + 'previous_application.csv')\n"
   ]
  },
  {
   "cell_type": "code",
   "execution_count": 3,
   "metadata": {},
   "outputs": [],
   "source": [
    "\n",
    "train_previous_application = pd.merge(train, previous_application, on = 'SK_ID_CURR')"
   ]
  },
  {
   "cell_type": "code",
   "execution_count": 4,
   "metadata": {},
   "outputs": [
    {
     "data": {
      "text/plain": [
       "'%.3f'"
      ]
     },
     "execution_count": 4,
     "metadata": {},
     "output_type": "execute_result"
    }
   ],
   "source": [
    "from pandas import Series, DataFrame\n",
    "import matplotlib.pyplot as plt\n",
    "import matplotlib as mpl\n",
    "import seaborn as sns\n",
    "sns.set()\n",
    "%matplotlib inline\n",
    "%precision 3"
   ]
  },
  {
   "cell_type": "code",
   "execution_count": null,
   "metadata": {},
   "outputs": [],
   "source": [
    "train_previous_application.groupby('NAME_CLIENT_TYPE')['TARGET'].mean()"
   ]
  },
  {
   "cell_type": "code",
   "execution_count": null,
   "metadata": {},
   "outputs": [],
   "source": [
    "\n",
    "pd.crosstab(train_previous_application['NAME_CLIENT_TYPE'], train_previous_application['NAME_INCOME_TYPE'])"
   ]
  },
  {
   "cell_type": "code",
   "execution_count": null,
   "metadata": {},
   "outputs": [],
   "source": [
    "\n",
    "labels = ['New','Refreshed','Repeater','XNA']\n",
    "sizes = [58840,25979,236339,323]\n",
    "explode = (0,0,0,0)\n",
    "\n",
    "plt.figure(figsize = (15,6))\n",
    "\n",
    "plt.pie(sizes,autopct = '%1.1f%%',labels = labels,explode = explode,shadow = True,startangle = 90)\n",
    "plt.axis('equal')\n",
    "print('Commercial associate')"
   ]
  },
  {
   "cell_type": "code",
   "execution_count": null,
   "metadata": {},
   "outputs": [],
   "source": [
    "\n",
    "labels = ['New','Refreshed','Repeater','XNA']\n",
    "sizes = [44478,20699,208034,333]\n",
    "explode = (0,0,0,0)\n",
    "\n",
    "plt.figure(figsize = (15,6))\n",
    "\n",
    "plt.pie(sizes,autopct = '%1.1f%%',labels = labels,explode = explode,shadow = True,startangle = 90)\n",
    "plt.axis('equal')\n",
    "print('Pensioner')"
   ]
  },
  {
   "cell_type": "code",
   "execution_count": null,
   "metadata": {},
   "outputs": [],
   "source": [
    "\n",
    "labels = ['New','Refreshed','Repeater','XNA']\n",
    "sizes = [18003,7881,68447,93]\n",
    "explode = (0,0,0,0)\n",
    "\n",
    "plt.figure(figsize = (15,6))\n",
    "\n",
    "plt.pie(sizes,autopct = '%1.1f%%',labels = labels,explode = explode,shadow = True,startangle = 90)\n",
    "plt.axis('equal')\n",
    "print('State servant')"
   ]
  },
  {
   "cell_type": "code",
   "execution_count": null,
   "metadata": {},
   "outputs": [],
   "source": [
    "\n",
    "labels = ['New','Refreshed','Repeater','XNA']\n",
    "sizes = [138188,60374,524733,794]\n",
    "explode = (0,0,0,0)\n",
    "\n",
    "plt.figure(figsize = (15,6))\n",
    "\n",
    "plt.pie(sizes,autopct = '%1.1f%%',labels = labels,explode = explode,shadow = True,startangle = 90)\n",
    "plt.axis('equal')\n",
    "print('Working')"
   ]
  },
  {
   "cell_type": "code",
   "execution_count": null,
   "metadata": {},
   "outputs": [],
   "source": [
    "train_previous_application_2 = train_previous_application\n",
    "train_previous_application_2['DAYS_BIRTH'] = train_previous_application_2['DAYS_BIRTH']/(-365)\n",
    "\n",
    "train_previous_application_2['DAYS_BIRTH'] = train_previous_application_2['DAYS_BIRTH'].map(lambda x: 1 if x >= 50 else 0)"
   ]
  },
  {
   "cell_type": "code",
   "execution_count": null,
   "metadata": {},
   "outputs": [],
   "source": [
    "train_previous_application_2['DAYS_BIRTH'].head()"
   ]
  },
  {
   "cell_type": "code",
   "execution_count": null,
   "metadata": {},
   "outputs": [],
   "source": [
    "pd.crosstab(train_previous_application['NAME_CLIENT_TYPE'], train_previous_application['DAYS_BIRTH'])"
   ]
  },
  {
   "cell_type": "code",
   "execution_count": null,
   "metadata": {},
   "outputs": [],
   "source": [
    "labels = ['New','Refreshed','Repeater','XNA']\n",
    "sizes = [176794,75120,657835,999]\n",
    "explode = (0,0,0,0)\n",
    "plt.figure(figsize = (15,6))\n",
    "\n",
    "plt.pie(sizes,autopct = '%1.1f%%',labels = labels,explode = explode,shadow = True,startangle = 90)\n",
    "plt.axis('equal')\n",
    "print('                                                                                  Not Elderly')"
   ]
  },
  {
   "cell_type": "code",
   "execution_count": null,
   "metadata": {},
   "outputs": [],
   "source": [
    "labels = ['New','Refreshed','Repeater','XNA']\n",
    "sizes = [82746,39816,379847,544]\n",
    "explode = (0,0,0,0)\n",
    "plt.figure(figsize = (15,6))\n",
    "\n",
    "plt.pie(sizes,autopct = '%1.1f%%',labels = labels,explode = explode,shadow = True,startangle = 90)\n",
    "plt.axis('equal')\n",
    "print('                                                                                      Elderly')"
   ]
  },
  {
   "cell_type": "code",
   "execution_count": null,
   "metadata": {},
   "outputs": [],
   "source": [
    "train.groupby('TARGET').size()\n",
    "labels = ['Safe','Default']\n",
    "sizes = [282686,24825]\n",
    "explode = (0,0)\n",
    "plt.figure(figsize = (15,6))\n",
    "\n",
    "plt.pie(sizes,autopct = '%1.1f%%',labels = labels,explode = explode,shadow = True,startangle = 90)\n",
    "plt.axis('equal')"
   ]
  },
  {
   "cell_type": "code",
   "execution_count": null,
   "metadata": {},
   "outputs": [],
   "source": [
    "train.groupby('NAME_INCOME_TYPE').size()"
   ]
  },
  {
   "cell_type": "code",
   "execution_count": null,
   "metadata": {},
   "outputs": [],
   "source": [
    "labels = ['Businessman','Commercial associate','Maternity leave','Pensioner','State servant ','Student','Unemployed','Working']\n",
    "sizes = [10,71617,5,55362,21703,18,22,158774]\n",
    "explode = (0,0,0,0.1,0,0,0,0)\n",
    "plt.figure(figsize = (15,6))\n",
    "\n",
    "plt.pie(sizes,autopct = '%1.1f%%',labels = labels,explode = explode,shadow = True,startangle = 90)\n",
    "plt.axis('equal')"
   ]
  },
  {
   "cell_type": "code",
   "execution_count": null,
   "metadata": {},
   "outputs": [],
   "source": [
    "train.groupby('NAME_INCOME_TYPE')['TARGET'].mean()"
   ]
  },
  {
   "cell_type": "code",
   "execution_count": null,
   "metadata": {},
   "outputs": [],
   "source": [
    "x = [1,2,3,4,5,6,7,8]\n",
    "y = [0.000000,0.074843,0.400000,0.053864,0.057550,0.000000,0.363636,0.095885]\n",
    "y =  [n*2 for n in y]\n",
    "plt.figure(figsize = (10,6))\n",
    "plt.bar(x,y,align = 'center',width = 0.5)\n",
    "plt.xticks(x,['Businessman','Commercial associate','Maternity leave','Pensioner','State servant','Student','Unemployed','Working'])\n",
    "plt.xlabel('INCOME')\n",
    "plt.ylabel('DEFAULT')\n",
    "\n",
    "plt.grid(True)"
   ]
  },
  {
   "cell_type": "code",
   "execution_count": null,
   "metadata": {},
   "outputs": [],
   "source": [
    "train_eld = train[train['NAME_INCOME_TYPE'] == 'Pensioner']\n",
    "\n",
    "train_eld.groupby('FLAG_OWN_CAR')['REGION_POPULATION_RELATIVE'].mean()\n"
   ]
  },
  {
   "cell_type": "code",
   "execution_count": null,
   "metadata": {},
   "outputs": [],
   "source": [
    "\n",
    "x = [1,2]\n",
    "y = [0.020509,0.021813]\n",
    "\n",
    "plt.figure(figsize = (10,6))\n",
    "plt.bar(x,y,align = 'center',width = 0.5)\n",
    "plt.xticks(x,['NO','YES'])\n",
    "plt.xlabel('OWN_CAR')\n",
    "plt.ylabel('URBAN')\n",
    "\n",
    "plt.grid(True)"
   ]
  },
  {
   "cell_type": "code",
   "execution_count": null,
   "metadata": {},
   "outputs": [],
   "source": [
    "train.groupby('NAME_INCOME_TYPE')['AMT_CREDIT'].mean()"
   ]
  },
  {
   "cell_type": "code",
   "execution_count": null,
   "metadata": {},
   "outputs": [],
   "source": [
    "x = [1,2,3,4,5,6,7,8]\n",
    "y = [1.228500e+06,6.699131e+05,7.497000e+05,5.425461e+05,6.698193e+05,5.107875e+05,7.643864e+05,5.770110e+05]\n",
    "\n",
    "plt.figure(figsize = (10,6))\n",
    "plt.bar(x,y,align = 'center',width = 0.5)\n",
    "plt.xticks(x,['Businessman','Commercial associate','Maternity leave','Pensioner','State servant','Student','Unemployed','Working'])\n",
    "plt.xlabel('INCOME')\n",
    "plt.ylabel('LOAN')\n",
    "\n",
    "plt.grid(True)"
   ]
  },
  {
   "cell_type": "code",
   "execution_count": null,
   "metadata": {},
   "outputs": [],
   "source": [
    "train.groupby('NAME_INCOME_TYPE')['AMT_GOODS_PRICE'].mean()"
   ]
  },
  {
   "cell_type": "code",
   "execution_count": null,
   "metadata": {},
   "outputs": [],
   "source": [
    "x = [1,2,3,4,5,6,7,8]\n",
    "y = [1.228500e+06,6.031804e+05, 7.497000e+05,4.881586e+05,6.024241e+05,4.582500e+05, 7.643864e+05,5.178644e+05]\n",
    "\n",
    "plt.figure(figsize = (10,6))\n",
    "plt.bar(x,y,align = 'center',width = 0.5)\n",
    "plt.xticks(x,['Businessman','Commercial associate','Maternity leave','Pensioner','State servant','Student','Unemployed','Working'])\n",
    "plt.xlabel('INCOME')\n",
    "plt.ylabel('GOODS_PRICE')\n",
    "\n",
    "plt.grid(True)"
   ]
  },
  {
   "cell_type": "code",
   "execution_count": null,
   "metadata": {},
   "outputs": [],
   "source": [
    "train['FLAG_OWN_CAR'] = train['FLAG_OWN_CAR'].map(lambda x: 1 if x == 'Y' else 0)\n",
    "#train.head()"
   ]
  },
  {
   "cell_type": "code",
   "execution_count": null,
   "metadata": {},
   "outputs": [],
   "source": [
    "train['FLAG_OWN_REALTY'] = train['FLAG_OWN_REALTY'].map(lambda x: 1 if x == 'Y' else 0)\n",
    "#train.head()"
   ]
  },
  {
   "cell_type": "code",
   "execution_count": null,
   "metadata": {},
   "outputs": [],
   "source": [
    "train.groupby('NAME_INCOME_TYPE')['FLAG_OWN_CAR'].mean()"
   ]
  },
  {
   "cell_type": "code",
   "execution_count": null,
   "metadata": {},
   "outputs": [],
   "source": [
    "x = [1,2,3,4,5,6,7,8]\n",
    "y = [0.800000,0.391541, 0.200000,0.183574,0.343731,0.277778,0.318182,0.370980]\n",
    "plt.figure(figsize = (10,6))\n",
    "plt.bar(x,y,align = 'center',width = 0.5)\n",
    "plt.xticks(x,['Businessman','Commercial associate','Maternity leave','Pensioner','State servant','Student','Unemployed','Working'])\n",
    "plt.xlabel('INCOME')\n",
    "plt.ylabel('OWN_CAR')\n",
    "\n",
    "plt.grid(True)"
   ]
  },
  {
   "cell_type": "code",
   "execution_count": null,
   "metadata": {},
   "outputs": [],
   "source": [
    "train.groupby('NAME_INCOME_TYPE')['FLAG_OWN_REALTY'].mean()"
   ]
  },
  {
   "cell_type": "code",
   "execution_count": null,
   "metadata": {},
   "outputs": [],
   "source": [
    "x = [1,2,3,4,5,6,7,8]\n",
    "y = [0.800000,0.685689,0.800000,0.762689,0.658573,0.555556,0.681818,0.678014]\n",
    "plt.figure(figsize = (10,6))\n",
    "plt.bar(x,y,align = 'center',width = 0.5)\n",
    "plt.xticks(x,['Businessman','Commercial associate','Maternity leave','Pensioner','State servant','Student','Unemployed','Working'])\n",
    "plt.xlabel('INCOME')\n",
    "plt.ylabel('OWN_REALTY')\n",
    "\n",
    "plt.grid(True)"
   ]
  },
  {
   "cell_type": "code",
   "execution_count": null,
   "metadata": {},
   "outputs": [],
   "source": [
    "train.groupby('NAME_INCOME_TYPE')['REGION_POPULATION_RELATIVE'].mean()"
   ]
  },
  {
   "cell_type": "code",
   "execution_count": null,
   "metadata": {},
   "outputs": [],
   "source": [
    "x = [1,2,3,4,5,6,7,8]\n",
    "y = [ 0.030942,0.024600, 0.023286,0.020749,0.020146,0.021628, 0.021619,0.019324]\n",
    "plt.figure(figsize = (10,6))\n",
    "plt.bar(x,y,align = 'center',width = 0.5)\n",
    "plt.xticks(x,['Businessman','Commercial associate','Maternity leave','Pensioner','State servant','Student','Unemployed','Working'])\n",
    "plt.xlabel('INCOME')\n",
    "plt.ylabel('URBAN')\n",
    "\n",
    "plt.grid(True)"
   ]
  },
  {
   "cell_type": "code",
   "execution_count": null,
   "metadata": {},
   "outputs": [],
   "source": [
    "train.groupby('NAME_INCOME_TYPE')['AMT_INCOME_TOTAL'].mean()"
   ]
  },
  {
   "cell_type": "code",
   "execution_count": null,
   "metadata": {
    "scrolled": true
   },
   "outputs": [],
   "source": [
    "x = [1,2,3,4,5,6,7,8]\n",
    "y = [652500.000000, 202955.327289,140400.000000,136401.292273,179737.969506,170500.000000,110536.363636,163169.889223]\n",
    "plt.figure(figsize = (10,6))\n",
    "plt.bar(x,y,align = 'center',width = 0.5)\n",
    "plt.xticks(x,['Businessman','Commercial associate','Maternity leave','Pensioner','State servant','Student','Unemployed','Working'])\n",
    "plt.xlabel('OCCUPATION')\n",
    "plt.ylabel('INCOME')\n",
    "\n",
    "plt.grid(True)"
   ]
  },
  {
   "cell_type": "code",
   "execution_count": null,
   "metadata": {},
   "outputs": [],
   "source": [
    "train.head()\n",
    "train.shape"
   ]
  },
  {
   "cell_type": "code",
   "execution_count": null,
   "metadata": {},
   "outputs": [],
   "source": [
    "train.shape"
   ]
  },
  {
   "cell_type": "code",
   "execution_count": null,
   "metadata": {},
   "outputs": [],
   "source": [
    "train_cluster = train"
   ]
  },
  {
   "cell_type": "code",
   "execution_count": null,
   "metadata": {},
   "outputs": [],
   "source": [
    "\n",
    "from sklearn.preprocessing import LabelEncoder\n",
    "#LabelEncoderのインスタンスを生成\n",
    "le = LabelEncoder()\n",
    "#ラベルを覚えさせる\n",
    "le = le.fit(train_cluster['NAME_INCOME_TYPE'])\n",
    "#ラベルを整数に変換\n",
    "train_cluster['NAME_INCOME_TYPE'] = le.transform(train_cluster['NAME_INCOME_TYPE'])\n",
    "train_cluster['NAME_INCOME_TYPE'].head()\n"
   ]
  },
  {
   "cell_type": "code",
   "execution_count": null,
   "metadata": {},
   "outputs": [],
   "source": [
    "\n",
    "\n",
    "#train_cluster = train[['TARGET','AMT_INCOME_TOTAL','AMT_CREDIT','NAME_INCOME_TYPE']]\n",
    "train_cluster = train[['TARGET','AMT_INCOME_TOTAL','AMT_CREDIT','NAME_INCOME_TYPE','REGION_POPULATION_RELATIVE']]\n",
    "#TARGET,AMT_INCOME_TOTAL,AMT_CREDIT,NAME_INCOME_TYPE\n",
    "\"\"\"\n",
    "cat_cols = ['Businessman','Commercial associate','Maternity leave','Pensioner','State servant','Student','Unemployed','Working']\n",
    "\n",
    "train_cluster_dummy = pd.get_dummies(train_cluster['NAME_INCOME_TYPE'],columns = cat_cols)\n",
    "\n",
    "train_cluster = pd.concat([train_cluster.drop(['NAME_INCOME_TYPE'],axis=1),train_cluster_dummy],axis=1)\n",
    "\n",
    "\"\"\""
   ]
  },
  {
   "cell_type": "code",
   "execution_count": null,
   "metadata": {},
   "outputs": [],
   "source": [
    "\n",
    "from sklearn.preprocessing import StandardScaler\n",
    "\n",
    "sc = StandardScaler()\n",
    "sc.fit(train_cluster)\n",
    "train_cluster_std = sc.transform(train_cluster)"
   ]
  },
  {
   "cell_type": "code",
   "execution_count": null,
   "metadata": {},
   "outputs": [],
   "source": [
    "\n",
    "from sklearn.cluster import KMeans\n",
    "\"\"\"\n",
    "#クラスター数を調べる方法\n",
    "#from sklearn.datasets import make_blobs\n",
    "#X, _ = make_blobs(random_state = 10)\n",
    "#plt.scatter(X[:,0],X[:,1],color = 'black')\n",
    "dist_list = []\n",
    "for i in range(1,20):\n",
    "    kmeans = KMeans(n_clusters = i,init = 'random',random_state = 0)\n",
    "    kmeans.fit(train_cluster_std)\n",
    "    dist_list.append(kmeans.inertia_)\n",
    "\n",
    "plt.plot(range(1,20),dist_list,marker = '+')\n",
    "plt.xlbel('Number of clusters')\n",
    "plt.ylabel('Distortion')\n",
    "\"\"\""
   ]
  },
  {
   "cell_type": "code",
   "execution_count": null,
   "metadata": {},
   "outputs": [],
   "source": [
    "\n",
    "kmeans = KMeans(init = 'random',n_clusters = 6 ,random_state = 0)\n",
    "kmeans.fit(train_cluster)\n",
    "\n",
    "labels = pd.Series(kmeans.labels_,name = 'cluster_number')\n",
    "\n",
    "print(labels.value_counts(sort = False))\n",
    "\n",
    "ax = labels.value_counts(sort = False).plot(kind = 'bar')\n",
    "ax.set_xlabel('cluster number')\n",
    "ax.set_ylabel('count')"
   ]
  },
  {
   "cell_type": "code",
   "execution_count": null,
   "metadata": {},
   "outputs": [],
   "source": [
    "train_with_cluster = pd.concat([train_cluster,labels],axis = 1)\n",
    "\n",
    "train_with_cluster.head()"
   ]
  },
  {
   "cell_type": "code",
   "execution_count": null,
   "metadata": {},
   "outputs": [],
   "source": [
    "cross_cluster_job = train_with_cluster.groupby(['cluster_number','NAME_INCOME_TYPE']).size().unstack().fillna(0)\n",
    "cross_cluster_job.head()                                  "
   ]
  },
  {
   "cell_type": "code",
   "execution_count": null,
   "metadata": {},
   "outputs": [],
   "source": [
    "sns.heatmap(cross_cluster_job.apply(lambda x: x/x.sum(),axis = 1),cmap = 'Reds')"
   ]
  },
  {
   "cell_type": "code",
   "execution_count": null,
   "metadata": {},
   "outputs": [],
   "source": [
    "train_with_cluster.groupby('NAME_INCOME_TYPE').size()\n",
    "# 0~7が、['Businessman',\n",
    "# 'Commercial associate','Maternity leave','Pensioner','State servant',\n",
    "# 'Student','Unemployed','Working']に一致していることがわかった。"
   ]
  },
  {
   "cell_type": "code",
   "execution_count": null,
   "metadata": {},
   "outputs": [],
   "source": [
    "cross_cluster_credit = train_with_cluster.groupby(['cluster_number','AMT_CREDIT']).size().unstack().fillna(0)\n",
    "                                            \n",
    "sns.heatmap(cross_cluster_credit.apply(lambda x: x/x.sum(),axis = 1),cmap = 'Reds')"
   ]
  },
  {
   "cell_type": "code",
   "execution_count": null,
   "metadata": {},
   "outputs": [],
   "source": [
    "cross_cluster_credit = train_with_cluster.groupby(['cluster_number','AMT_INCOME_TOTAL']).size().unstack().fillna(0)\n",
    "                                            \n",
    "sns.heatmap(cross_cluster_credit.apply(lambda x: x/x.sum(),axis = 1),cmap = 'Reds')"
   ]
  },
  {
   "cell_type": "code",
   "execution_count": null,
   "metadata": {},
   "outputs": [],
   "source": [
    "cross_cluster_region = train_with_cluster.groupby(['cluster_number','REGION_POPULATION_RELATIVE']).size().unstack().fillna(0)\n",
    "                                            \n",
    "sns.heatmap(cross_cluster_region.apply(lambda x: x/x.sum(),axis = 1),cmap = 'Reds')"
   ]
  },
  {
   "cell_type": "code",
   "execution_count": null,
   "metadata": {},
   "outputs": [],
   "source": [
    "train_with_cluster.head()"
   ]
  },
  {
   "cell_type": "code",
   "execution_count": null,
   "metadata": {},
   "outputs": [],
   "source": [
    "train_cluster = pd.concat([train,train_with_cluster['cluster_number']],axis = 1)"
   ]
  },
  {
   "cell_type": "code",
   "execution_count": null,
   "metadata": {},
   "outputs": [],
   "source": [
    "train_cluster.head()"
   ]
  },
  {
   "cell_type": "code",
   "execution_count": null,
   "metadata": {},
   "outputs": [],
   "source": [
    "train_cluster_0 = train_cluster[train_cluster['cluster_number'] == 0]\n",
    "train_cluster_1 = train_cluster[train_cluster['cluster_number'] == 1]\n",
    "train_cluster_2 = train_cluster[train_cluster['cluster_number'] == 2]\n",
    "train_cluster_3 = train_cluster[train_cluster['cluster_number'] == 3]\n",
    "train_cluster_4 = train_cluster[train_cluster['cluster_number'] == 4]\n",
    "train_cluster_5 = train_cluster[train_cluster['cluster_number'] == 5]"
   ]
  },
  {
   "cell_type": "code",
   "execution_count": null,
   "metadata": {},
   "outputs": [],
   "source": [
    "print(train_cluster_0.groupby('TARGET').size(),511/(11155+511))\n",
    "print(train_cluster_1.groupby('TARGET').size(),4720/(58920+4720))\n",
    "print(train_cluster_2.groupby('TARGET').size(),1/1)\n",
    "print(train_cluster_3.groupby('TARGET').size(),8192/(72493+8192))\n",
    "print(train_cluster_4.groupby('TARGET').size(),2513/(37369+2513))\n",
    "print(train_cluster_5.groupby('TARGET').size(),8888/(102749+8888))"
   ]
  },
  {
   "cell_type": "code",
   "execution_count": null,
   "metadata": {},
   "outputs": [],
   "source": [
    "train_cluster_5_eld = train_cluster_5[train_cluster_5['NAME_INCOME_TYPE'] == 3]\n",
    "train_cluster_0_eld = train_cluster_5[train_cluster_5['NAME_INCOME_TYPE'] == 0]"
   ]
  },
  {
   "cell_type": "code",
   "execution_count": null,
   "metadata": {},
   "outputs": [],
   "source": [
    "\"\"\"\n",
    "#trainデータの整形\n",
    "train_cluster['flg_cluster4'] = train_cluster['cluster_number'].apply(lambda x : 1 if x == 4 else 0)\n",
    "train_cluster.drop(['cluster_number'],axis = 1)\n",
    "train_cluster.drop(['TARGET'],axis = 1)\n",
    "y_train = train_cluster['flg_cluster4']\n",
    "X_train = train_cluster.drop(['cluster_number'],axis = 1).drop(['flg_cluster4'],axis = 1)\n",
    "#train_cluster.drop(['cluster_number'],axis = 1)\n",
    "\"\"\"\n"
   ]
  },
  {
   "cell_type": "code",
   "execution_count": null,
   "metadata": {},
   "outputs": [],
   "source": [
    "\"\"\"\n",
    "#testデータの整形\n",
    "test_cluster['flg_cluster4'] = test_cluster['cluster_number'].apply(lambda x : 1 if x == 4 else 0)\n",
    "test_cluster.drop(['cluster_number'],axis = 1)\n",
    "y_test = test_cluster['flg_cluster4']\n",
    "X_test = test_cluster.drop(['cluster_number'],axis = 1).drop(['flg_cluster4'],axis = 1)\n",
    "\"\"\""
   ]
  },
  {
   "cell_type": "code",
   "execution_count": null,
   "metadata": {},
   "outputs": [],
   "source": [
    "#trainデータが3万件以上あるので、クロスバリデーションを用いる。\n",
    "import sklearn\n",
    "print('データ型の確認(型変換前)\\n{}\\n'.format(train_cluster.dtypes))\n",
    "##これを抽出、数値型にして(pd.get_dummyなど)モデルに打ち込む"
   ]
  },
  {
   "cell_type": "code",
   "execution_count": null,
   "metadata": {},
   "outputs": [],
   "source": [
    "from sklearn.tree import DecisionTreeClassifier\n",
    "from sklearn.model_selection import train_test_split\n",
    "import numpy as np\n",
    "import pandas as pd\n",
    "import gc\n",
    "import time\n",
    "from contextlib import contextmanager\n",
    "#from lightgbm import LGBMClassifier\n",
    "from sklearn.metrics import roc_auc_score, roc_curve\n",
    "from sklearn.model_selection import KFold, StratifiedKFold\n",
    "import matplotlib.pyplot as plt\n",
    "import seaborn as sns\n",
    "import warnings\n",
    "warnings.simplefilter(action='ignore', category=FutureWarning)\n",
    "\n",
    "#trainデータの整形\n",
    "#train_cluster['flg_cluster4'] = train_cluster['cluster_number'].apply(lambda x : 1 if x == 4 else 0)\n",
    "train_cluster = train_cluster.drop(['cluster_number'],axis = 1)\n",
    "#train_cluster = train_cluster.drop(['TARGET'],axis = 1)\n"
   ]
  },
  {
   "cell_type": "code",
   "execution_count": null,
   "metadata": {},
   "outputs": [],
   "source": [
    "#train_cluster['CODE_GENDER'].head()"
   ]
  },
  {
   "cell_type": "code",
   "execution_count": null,
   "metadata": {},
   "outputs": [],
   "source": [
    "#def one_hot_encoder(df, nan_as_category = True):\n",
    "\"\"\"\n",
    "    データフレームの内，型がobjectの列をone hot 化.\n",
    "    引数\n",
    "    df: データフレーム\n",
    "    出力\n",
    "    df: カテゴリ変数をone hot 化ｓたデータフレーム\n",
    "    new_columns: 新しく作成した列の名前\n",
    "\"\"\"\n",
    "    \n",
    "original_columns = list(train_cluster.columns)\n",
    "categorical_columns = [col for col in train_cluster.columns if train_cluster[col].dtype == 'object']\n",
    "train_cluster = pd.get_dummies(train_cluster, columns= categorical_columns, dummy_na= True)\n",
    "new_columns = [c for c in train_cluster.columns if c not in original_columns]\n",
    "#return df, new_columns\n",
    "\n",
    "# Preprocess application_train.csv and application_test.csv\n",
    "#def application_train_test(num_rows = None, nan_as_category = False):\n",
    "# Read data and merge\n",
    "# appのtrainとtestを読み込んで結合\n",
    "#df = pd.read_csv('../input/application_train.csv', nrows= num_rows)\n",
    "    \n",
    "#test_df = pd.read_csv('../input/application_test.csv', nrows= num_rows)\n",
    "#print(\"Train samples: {}, test samples: {}\".format(len(df), len(test_df)))\n",
    "#df = df.append(test_df).reset_index()\n",
    "# Optional: Remove 4 applications with XNA CODE_GENDER (train set)\n",
    "#df = df[df['CODE_GENDER'] != 'XNA']\n",
    "#train_cluster = train_cluster[train_cluster['CODE_GENDER']!= 'XNA']\n",
    "    \n",
    "# Categorical features with Binary encode (0 or 1; two categories)\n",
    "# カテゴリ変数 (性別, 車所有, 不動産所有) を01に変換\n",
    "#for bin_feature in ['CODE_GENDER', 'FLAG_OWN_CAR', 'FLAG_OWN_REALTY']:\n",
    "for bin_feature in ['FLAG_OWN_CAR', 'FLAG_OWN_REALTY']:\n",
    "#df[bin_feature], uniques = pd.factorize(df[bin_feature])\n",
    "    train_cluster[bin_feature], uniques = pd.factorize(train_cluster[bin_feature])\n",
    "# Categorical features with One-Hot encode\n",
    "#df, cat_cols = one_hot_encoder(df, nan_as_category)\n",
    "#train_cluster, cat_cols = one_hot_encoder(train_cluster,False)\n",
    "    \n",
    "# NaN values for DAYS_EMPLOYED: 365.243 -> nan\n",
    "# 勤続日数 (DAYS_EMPLOYED) の365243をnanに置換. 元々nanがこの値で埋められている.\n",
    "#df['DAYS_EMPLOYED'].replace(365243, np.nan, inplace= True)\n",
    "train_cluster['DAYS_EMPLOYED'].replace(365243, np.nan, inplace= True)\n",
    "# Some simple new features (percentages)\n",
    "train_cluster['DAYS_EMPLOYED_PERC'] = train_cluster['DAYS_EMPLOYED'] / train_cluster['DAYS_BIRTH'] # 勤続日数/年齢日数\n",
    "train_cluster['INCOME_CREDIT_PERC'] = train_cluster['AMT_INCOME_TOTAL'] / train_cluster['AMT_CREDIT'] # 総収入/借入額\n",
    "train_cluster['INCOME_PER_PERSON'] = train_cluster['AMT_INCOME_TOTAL'] / train_cluster['CNT_FAM_MEMBERS'] # 総収入/家族人数\n",
    "train_cluster['ANNUITY_INCOME_PERC'] = train_cluster['AMT_ANNUITY'] / train_cluster['AMT_INCOME_TOTAL'] # 月々の返済額/総収入\n",
    "train_cluster['PAYMENT_RATE'] = train_cluster['AMT_ANNUITY'] / train_cluster['AMT_CREDIT'] # 月々の返済額/借入額\n",
    "#del test_df\n",
    "gc.collect()\n",
    "#return train_cluster\n"
   ]
  },
  {
   "cell_type": "code",
   "execution_count": null,
   "metadata": {},
   "outputs": [],
   "source": [
    "print('データ型の確認(型変換前)\\n{}\\n'.format(train_cluster.dtypes))"
   ]
  },
  {
   "cell_type": "code",
   "execution_count": null,
   "metadata": {},
   "outputs": [],
   "source": [
    "train_cluster.shape"
   ]
  },
  {
   "cell_type": "code",
   "execution_count": null,
   "metadata": {},
   "outputs": [],
   "source": [
    "train_cluster = train_cluster.dropna()\n",
    "train_cluster.shape"
   ]
  },
  {
   "cell_type": "code",
   "execution_count": null,
   "metadata": {},
   "outputs": [],
   "source": [
    "\n",
    "\n",
    "y_train = train_cluster['TARGET']\n",
    "X_train = train_cluster.drop(['TARGET'],axis = 1)\n",
    "X_train, X_test,y_train,y_test = train_test_split(X_train,y_train,random_state = 0)\n",
    "\n",
    "model = DecisionTreeClassifier(criterion = 'entropy',max_depth = 6,random_state = 0)\n",
    "model.fit(X_train,y_train)\n",
    "\n",
    "\n",
    "print('正解率(train):{:.3f}'.format(model.score(X_train,y_train)))\n",
    "print('正解率(test):{:.3f}'.format(model.score(X_test,y_test)))\n",
    "\n",
    "\n"
   ]
  },
  {
   "cell_type": "code",
   "execution_count": null,
   "metadata": {},
   "outputs": [],
   "source": [
    "pip install plotly --upgrade"
   ]
  },
  {
   "cell_type": "code",
   "execution_count": null,
   "metadata": {},
   "outputs": [],
   "source": [
    "pip install cufflinks"
   ]
  },
  {
   "cell_type": "code",
   "execution_count": null,
   "metadata": {},
   "outputs": [],
   "source": [
    "application_train = train\n",
    "application_test = test\n",
    "import plotly\n",
    "import plotly.offline as py\n",
    "py.init_notebook_mode(connected=True)\n",
    "from plotly.offline import init_notebook_mode, iplot\n",
    "init_notebook_mode(connected=True)\n",
    "import plotly.graph_objs as go\n",
    "import plotly.offline as offline\n",
    "offline.init_notebook_mode()\n",
    "import cufflinks as cf\n",
    "cf.go_offline()\n",
    "\n",
    "from sklearn import preprocessing\n",
    "categorical_feats = [\n",
    "    f for f in application_train.columns if application_train[f].dtype == 'object'\n",
    "]\n",
    "\n",
    "for col in categorical_feats:\n",
    "    lb = preprocessing.LabelEncoder()\n",
    "    lb.fit(list(application_train[col].values.astype('str')) + list(application_test[col].values.astype('str')))\n",
    "    application_train[col] = lb.transform(list(application_train[col].values.astype('str')))\n",
    "    application_test[col] = lb.transform(list(application_test[col].values.astype('str')))\n",
    "    \n",
    "application_train.fillna(-999, inplace = True)\n",
    "\n",
    "\n",
    "\n",
    "\n",
    "\n",
    "from sklearn.ensemble import RandomForestClassifier\n",
    "rf = RandomForestClassifier(n_estimators=50, max_depth=8, min_samples_leaf=4, max_features=0.5, random_state=2018)\n",
    "rf.fit(application_train.drop(['SK_ID_CURR', 'TARGET'],axis=1), application_train.TARGET)\n",
    "features = application_train.drop(['SK_ID_CURR', 'TARGET'],axis=1).columns.values\n",
    "\n",
    "x, y = (list(x) for x in zip(*sorted(zip(rf.feature_importances_, features), \n",
    "                                                            reverse = False)))\n",
    "trace2 = go.Bar(\n",
    "    x=x ,\n",
    "    y=y,\n",
    "    marker=dict(\n",
    "        color=x,\n",
    "        colorscale = 'Viridis',\n",
    "        reversescale = True\n",
    "    ),\n",
    "    name='Random Forest Feature importance',\n",
    "    orientation='h',\n",
    ")\n",
    "\n",
    "layout = dict(\n",
    "    title='Barplot of Feature importances',\n",
    "     width = 900, height = 2000,\n",
    "    yaxis=dict(\n",
    "        showgrid=False,\n",
    "        showline=False,\n",
    "        showticklabels=True,\n",
    "#         domain=[0, 0.85],\n",
    "    ),\n",
    "    margin=dict(\n",
    "    l=300,\n",
    "),\n",
    ")\n",
    "\n",
    "fig1 = go.Figure(data=[trace2])\n",
    "fig1['layout'].update(layout)\n",
    "py.iplot(fig1, filename='plots')"
   ]
  },
  {
   "cell_type": "code",
   "execution_count": 43,
   "metadata": {},
   "outputs": [],
   "source": [
    "train_paid = train[(train['TARGET'] == 0)]\n",
    "train_unpaid = train[(train['TARGET'] == 1)]"
   ]
  },
  {
   "cell_type": "code",
   "execution_count": 44,
   "metadata": {},
   "outputs": [
    {
     "name": "stdout",
     "output_type": "stream",
     "text": [
      "surpass 7678450066.5\n"
     ]
    }
   ],
   "source": [
    "a = train_paid['AMT_ANNUITY'].sum()\n",
    "print('surpass',a)\n",
    "a_real = a * 0.75"
   ]
  },
  {
   "cell_type": "code",
   "execution_count": 45,
   "metadata": {},
   "outputs": [
    {
     "name": "stdout",
     "output_type": "stream",
     "text": [
      "default 657409302.0\n"
     ]
    }
   ],
   "source": [
    "b = train_unpaid['AMT_ANNUITY'].sum()\n",
    "print(\"default\",b)\n",
    "b_real = b * 0.75"
   ]
  },
  {
   "cell_type": "code",
   "execution_count": 46,
   "metadata": {},
   "outputs": [
    {
     "name": "stdout",
     "output_type": "stream",
     "text": [
      "1623778330.725\n"
     ]
    }
   ],
   "source": [
    "surpass = a - a_real - b_real * 0.6\n",
    "print(surpass)"
   ]
  },
  {
   "cell_type": "code",
   "execution_count": 11,
   "metadata": {},
   "outputs": [
    {
     "data": {
      "text/plain": [
       "0    False\n",
       "1    False\n",
       "2     True\n",
       "3     True\n",
       "4     True\n",
       "Name: flg_over50, dtype: bool"
      ]
     },
     "execution_count": 11,
     "metadata": {},
     "output_type": "execute_result"
    }
   ],
   "source": [
    "train['flg_over50'] =  train['DAYS_BIRTH']/(-365) >= 50\n",
    "train['flg_over50'].head()"
   ]
  },
  {
   "cell_type": "code",
   "execution_count": 16,
   "metadata": {},
   "outputs": [],
   "source": [
    "train_over50 = train[train['flg_over50'] ==  True]"
   ]
  },
  {
   "cell_type": "code",
   "execution_count": 18,
   "metadata": {},
   "outputs": [
    {
     "data": {
      "text/plain": [
       "37823853"
      ]
     },
     "execution_count": 18,
     "metadata": {},
     "output_type": "execute_result"
    }
   ],
   "source": [
    "train.size"
   ]
  },
  {
   "cell_type": "code",
   "execution_count": 21,
   "metadata": {},
   "outputs": [
    {
     "data": {
      "text/plain": [
       "12751287"
      ]
     },
     "execution_count": 21,
     "metadata": {},
     "output_type": "execute_result"
    }
   ],
   "source": [
    "train_over50.size"
   ]
  },
  {
   "cell_type": "code",
   "execution_count": 22,
   "metadata": {},
   "outputs": [
    {
     "name": "stdout",
     "output_type": "stream",
     "text": [
      "2.9662772863633293\n"
     ]
    }
   ],
   "source": [
    "print(37823853/12751287)"
   ]
  },
  {
   "cell_type": "code",
   "execution_count": 24,
   "metadata": {},
   "outputs": [
    {
     "data": {
      "text/plain": [
       "38253861"
      ]
     },
     "execution_count": 24,
     "metadata": {},
     "output_type": "execute_result"
    }
   ],
   "source": [
    "train_over50_1 = train_over50\n",
    "train_over50_2 = pd.concat([train_over50,train_over50_1])\n",
    "train_over50_3 = pd.concat([train_over50_2,train_over50_1])\n",
    "train_over50_3.size"
   ]
  },
  {
   "cell_type": "code",
   "execution_count": 25,
   "metadata": {},
   "outputs": [
    {
     "name": "stdout",
     "output_type": "stream",
     "text": [
      "38253861\n"
     ]
    }
   ],
   "source": [
    "print(12751287*3)"
   ]
  },
  {
   "cell_type": "code",
   "execution_count": 47,
   "metadata": {},
   "outputs": [
    {
     "name": "stdout",
     "output_type": "stream",
     "text": [
      "surpass 7707298203.0\n",
      "default 461613870.0\n",
      "1719098309.25\n"
     ]
    }
   ],
   "source": [
    "train_over50_paid = train_over50_result[(train_over50_result['TARGET'] == 0)]\n",
    "train_over50_unpaid = train_over50_result[(train_over50_result['TARGET'] == 1)]\n",
    "\n",
    "a = train_over50_paid['AMT_ANNUITY'].sum()\n",
    "print('surpass',a)\n",
    "a_real = a * 0.75\n",
    "\n",
    "b = train_over50_unpaid['AMT_ANNUITY'].sum()\n",
    "print(\"default\",b)\n",
    "b_real = b * 0.75\n",
    "\n",
    "surpass = a - a_real - b_real * 0.6\n",
    "print(surpass)"
   ]
  },
  {
   "cell_type": "code",
   "execution_count": 42,
   "metadata": {},
   "outputs": [
    {
     "name": "stdout",
     "output_type": "stream",
     "text": [
      "105.87025807164459\n"
     ]
    }
   ],
   "source": [
    "ans = 1719098309.25/1623778330.725 * 100 \n",
    "print(ans)"
   ]
  }
 ],
 "metadata": {
  "kernelspec": {
   "display_name": "Python 3",
   "language": "python",
   "name": "python3"
  },
  "language_info": {
   "codemirror_mode": {
    "name": "ipython",
    "version": 3
   },
   "file_extension": ".py",
   "mimetype": "text/x-python",
   "name": "python",
   "nbconvert_exporter": "python",
   "pygments_lexer": "ipython3",
   "version": "3.7.3"
  }
 },
 "nbformat": 4,
 "nbformat_minor": 2
}
