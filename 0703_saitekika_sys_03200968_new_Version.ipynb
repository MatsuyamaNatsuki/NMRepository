{
  "nbformat": 4,
  "nbformat_minor": 0,
  "metadata": {
    "colab": {
      "name": "0703_saitekika_sys_03200968_new_Version.ipynb",
      "provenance": [],
      "collapsed_sections": []
    },
    "kernelspec": {
      "display_name": "Python 3",
      "language": "python",
      "name": "python3"
    },
    "language_info": {
      "codemirror_mode": {
        "name": "ipython",
        "version": 3
      },
      "file_extension": ".py",
      "mimetype": "text/x-python",
      "name": "python",
      "nbconvert_exporter": "python",
      "pygments_lexer": "ipython3",
      "version": "3.7.6"
    }
  },
  "cells": [
    {
      "cell_type": "code",
      "metadata": {
        "colab_type": "code",
        "id": "9Vt6PiRH5DyR",
        "colab": {}
      },
      "source": [
        "# 名前など記入してください\n",
        "Student_id = 200968\n",
        "Name = \"松山夏樹(MATSUYAMA Natsuki)\"\n",
        "Department = \"sys\""
      ],
      "execution_count": 7,
      "outputs": []
    },
    {
      "cell_type": "code",
      "metadata": {
        "colab_type": "code",
        "id": "yqkZw5OtugBf",
        "colab": {}
      },
      "source": [
        "# Traveling Salesman Problem using Branch and Bound\n",
        "# Given the cost matrix of N cities (adj[i][j] means the cost of traveling from city i to city j), please find the  minimal cost to visit every city exactly once and return to the starting city.\n",
        "# Starting point can be any city.\n",
        "# Print out the minimum cost and the path you've found in following format.\n",
        "# Minimum cost: 35\n",
        "# Path: 0->2->4->1->3->0 \n",
        "\n",
        "# import\n",
        "import math "
      ],
      "execution_count": 8,
      "outputs": []
    },
    {
      "cell_type": "code",
      "metadata": {
        "colab_type": "code",
        "id": "-aL0ooIpLDNW",
        "colab": {}
      },
      "source": [
        "# Define and initialize variables\n",
        "# adj: adjacency matrix for the given graph \n",
        "# N: number of cities/nodes\n",
        "# final_path: stores the final path of the salesman\n",
        "# visited: keeps track of the already visited nodes\n",
        "# final_res: stores the minimum weight of shortest path sofar\n",
        "\n",
        "adj = [[0, 21, 5, 15, 9], \n",
        "       [17, 0, 12, 6, 24], \n",
        "       [13, 5, 0, 20, 8], \n",
        "       [9, 12, 7, 0, 23],\n",
        "       [26, 7, 13, 8, 0]] \n",
        "N = 5\n",
        "  \n",
        "final_path = [None] * (N + 1)  \n",
        "visited = [False] * N \n",
        "final_res = float('inf') "
      ],
      "execution_count": 9,
      "outputs": []
    },
    {
      "cell_type": "code",
      "metadata": {
        "id": "WI2HaNVkuAE2",
        "colab_type": "code",
        "colab": {}
      },
      "source": [
        "\n",
        "# 現在の道筋を最後の道筋にコピーする \n",
        "def copyToFinal(curr_path): \n",
        "    final_path[:N + 1] = curr_path[:] # final_pathの0,...,N番目はcurr_pathのN個\n",
        "    final_path[N] = curr_path[0] # final_pathの最後N番目をcurr_pathの0番目とする\n",
        "  \n",
        "#　頂点iでの最小値を見つける\n",
        "def firstMin(adj, i): \n",
        "    min = float('inf')\n",
        "    for k in range(N): \n",
        "        if adj[i][k] < min and i != k: #自分へ移動は除く\n",
        "            min = adj[i][k] # 行列adjでi行での最小値を見つける\n",
        "  \n",
        "    return min\n",
        "  \n",
        "# 頂点iでの2番目の値を見つける\n",
        "def secondMin(adj, i): \n",
        "    first, second = float('inf'), float('inf')\n",
        "    for j in range(N): \n",
        "        if i == j: \n",
        "            continue\n",
        "        if adj[i][j] <= first: \n",
        "            second = first \n",
        "            first = adj[i][j] \n",
        "  \n",
        "        elif (adj[i][j] <= second and adj[i][j] != first): \n",
        "            second = adj[i][j] # 行列adjでi行での2番目の最小値を見つける\n",
        "  \n",
        "    return second \n",
        "  \n",
        "# function that takes as arguments: \n",
        "# curr_bound -> lower bound of the root node \n",
        "# curr_weight-> stores the weight of the path so far \n",
        "# level-> current level while moving \n",
        "# in the search space tree \n",
        "# curr_path[] -> where the solution is being stored \n",
        "# which would later be copied to final_path[] \n",
        "def TSPRec(adj,curr_bound,curr_weight,level,curr_path,visited): \n",
        "    global final_res #関数を実行した結果,final_resが書き換えられる\n",
        "      \n",
        "    # 全てのノードを1度ずつは通り、levelがNであることを前提にする\n",
        "    if level == N: \n",
        "          \n",
        "        # 最初の頂点に向かうpathの最後の頂点から出るedgeがあるか確認する\n",
        "        if adj[curr_path[level - 1]][curr_path[0]] != 0: \n",
        "              \n",
        "            # curr_resでは通った道のweightの和が記録されている \n",
        "            curr_res = curr_weight + adj[curr_path[level - 1]][curr_path[0]] \n",
        "            if curr_res < final_res: \n",
        "                copyToFinal(curr_path) \n",
        "                final_res = curr_res \n",
        "        return\n",
        "  \n",
        "    # level = Nでなければ、すべての頂点を反復して検索スペースツリーを再帰的に構築する \n",
        "    for i in range(N): \n",
        "          \n",
        "        # 次の頂点が同じでない場合は考慮する\n",
        "        # 隣接行列の斜めのエントリで、まだ訪れていない場合 \n",
        "        if (adj[curr_path[level-1]][i] != 0 and visited[i] == False): \n",
        "            temp = curr_bound # tempにcurr_boundを保存\n",
        "            curr_weight += adj[curr_path[level - 1]][i] # curr_weightに通るノードの重みを足す\n",
        "  \n",
        "            # レベル2のcurr_boundの計算が他のレベルと異なる場合\n",
        "            if level == 1: \n",
        "                curr_bound -= ((firstMin(adj,curr_path[level - 1]) +firstMin(adj, i))/2) \n",
        "            else: \n",
        "                curr_bound -= ((secondMin(adj,curr_path[level - 1]) +firstMin(adj, i))/2) \n",
        "  \n",
        "            # curr_bound + curr_weight が今まで訪れたノードの中で実際のlower bound   \n",
        "            # 現在のlower boundがfinal_resより小さければ、まだノードを探索する必要がある \n",
        "            \n",
        "            if curr_bound + curr_weight < final_res: \n",
        "                curr_path[level] = i \n",
        "                visited[i] = True\n",
        "                  \n",
        "                # levelを+1し、次のlevelでの探索を行う\n",
        "                TSPRec(adj,curr_bound,curr_weight,level + 1,curr_path,visited) \n",
        "  \n",
        "            # そうでない場合は、curr_weightとcurr_boundへのすべての変更をリセットしてノードを剪定する\n",
        "            curr_weight -= adj[curr_path[level - 1]][i] #1手戻す\n",
        "            curr_bound = temp #1手戻す temp = curr_bound\n",
        "  \n",
        "            # visited arrayもリセットする\n",
        "            visited = [False] * len(visited) #リセット\n",
        "            for j in range(level): \n",
        "                if curr_path[j] != -1: \n",
        "                    visited[curr_path[j]] = True\n",
        "  \n",
        "# final_pathを設定する \n",
        "def TSP(adj): \n",
        "      \n",
        "    # root nodeへの最初のlower boundを計算する\n",
        "    # 公式:1/2 * (sum of first min + second min)を全ての頂点に適用 \n",
        "    # curr_path と visited array を初期化\n",
        "    curr_bound = 0\n",
        "    curr_path = [-1] * (N + 1) \n",
        "    visited = [False] * N \n",
        "  \n",
        "    # 最初のboundを計算する\n",
        "    for i in range(N): \n",
        "        curr_bound += (firstMin(adj,i) + secondMin(adj,i)) \n",
        "  \n",
        "    # lower boundを整数に丸める\n",
        "    curr_bound = math.ceil(curr_bound/2) \n",
        "  \n",
        "    # 頂点1から初める(curr_path[]の1番目は0であるため)\n",
        "    visited[0] = True\n",
        "    curr_path[0] = 0\n",
        "  \n",
        "    # TSPRecをcurr_weightのために呼び出す \n",
        "    # 0とレベル1に等しい\n",
        "    TSPRec(adj,curr_bound,0,1,curr_path,visited) \n",
        "  "
      ],
      "execution_count": 11,
      "outputs": []
    },
    {
      "cell_type": "code",
      "metadata": {
        "colab_type": "code",
        "id": "VkfZnnghCNK_",
        "colab": {
          "base_uri": "https://localhost:8080/",
          "height": 51
        },
        "outputId": "32bb1932-49e0-4466-c8b6-3873914ea104"
      },
      "source": [
        "# Find the path based on given adjacent matrix\n",
        "# Print out the result\n",
        "TSP(adj) \n",
        "  \n",
        "print(\"Minimum cost :\",final_res) \n",
        "print(\"Path: \", end = ' ') \n",
        "for i in range(N): \n",
        "    print(final_path[i] + 1,end = '->') \n",
        "print(final_path[N] + 1)"
      ],
      "execution_count": 12,
      "outputs": [
        {
          "output_type": "stream",
          "text": [
            "Minimum cost : 35\n",
            "Path:  1->3->5->2->4->1\n"
          ],
          "name": "stdout"
        }
      ]
    },
    {
      "cell_type": "code",
      "metadata": {
        "colab_type": "code",
        "id": "ZqL_SzEXGYp1",
        "colab": {}
      },
      "source": [
        ""
      ],
      "execution_count": null,
      "outputs": []
    }
  ]
}