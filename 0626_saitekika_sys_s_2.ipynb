{
  "nbformat": 4,
  "nbformat_minor": 0,
  "metadata": {
    "colab": {
      "name": "0626_saitekika_Gakka_studentId_2.ipynb",
      "provenance": [],
      "collapsed_sections": []
    },
    "kernelspec": {
      "name": "python3",
      "display_name": "Python 3"
    }
  },
  "cells": [
    {
      "cell_type": "markdown",
      "metadata": {
        "id": "P7bWNGHMN1aK",
        "colab_type": "text"
      },
      "source": [
        "# 名前など記入してください"
      ]
    },
    {
      "cell_type": "markdown",
      "metadata": {
        "id": "SBN4GCoq_mjU",
        "colab_type": "text"
      },
      "source": [
        "*学籍番号：*03200968\n"
      ]
    },
    {
      "cell_type": "markdown",
      "metadata": {
        "id": "6XZzHoRM_qwh",
        "colab_type": "text"
      },
      "source": [
        "名前：松山夏樹\n"
      ]
    },
    {
      "cell_type": "markdown",
      "metadata": {
        "id": "_D5GaSzb_tqW",
        "colab_type": "text"
      },
      "source": [
        "学科：システム創成C"
      ]
    },
    {
      "cell_type": "markdown",
      "metadata": {
        "id": "qtOoBbJ8-F0c",
        "colab_type": "text"
      },
      "source": [
        "# 6/26 演習の課題\n",
        "## ダイクストラ法\n",
        "添付の画像の最短経路をダイクストラ法で求めてください。\n",
        "入力は以下のroute_listを使用してください（図を元にして作成）"
      ]
    },
    {
      "cell_type": "code",
      "metadata": {
        "id": "2KqRlansALmm",
        "colab_type": "code",
        "colab": {}
      },
      "source": [
        "route_list = [\n",
        "    [0, 1, 3, 8, 0, 0, 0],\n",
        "    [0, 0, 0, 6, 0, 9, 0],\n",
        "    [0, 0, 0, 0, 4, 0, 0],\n",
        "    [0, 0, 0, 0, 0, 1, 0],\n",
        "    [0, 0, 0, 2, 0, 0, 0],\n",
        "    [0, 0, 0, 0, 0, 0, 3],\n",
        "    [0, 0, 0, 0, 0, 0, 0]\n",
        "]"
      ],
      "execution_count": 73,
      "outputs": []
    },
    {
      "cell_type": "markdown",
      "metadata": {
        "id": "a-1kDELtH5B4",
        "colab_type": "text"
      },
      "source": [
        "また、以下のように変数を定義します。適宜使用してください"
      ]
    },
    {
      "cell_type": "code",
      "metadata": {
        "id": "ZfuMYcMgB7IF",
        "colab_type": "code",
        "colab": {
          "base_uri": "https://localhost:8080/",
          "height": 34
        },
        "outputId": "1d5d98a0-9720-4c6f-f166-9fbcae1411c4"
      },
      "source": [
        "import math\n",
        "import numpy as np\n",
        "node_num = len(route_list) #ノードの数()\n",
        "unsearched_nodes = list(range(node_num)) # 未探索ノードを集めたリスト（0から始まることに注意）(Sbar)\n",
        "print(unsearched_nodes)\n",
        "distance = [math.inf] * node_num # そのノードまでの最短距離をまとめたリスト(d)\n",
        "distance[0] = 0 # スタート地点のノードの距離は0にする()\n",
        "previous_nodes = [-1] * node_num # 最短経路でそのノードのひとつ前に到達するノードのリスト(pj)"
      ],
      "execution_count": 74,
      "outputs": [
        {
          "output_type": "stream",
          "text": [
            "[0, 1, 2, 3, 4, 5, 6]\n"
          ],
          "name": "stdout"
        }
      ]
    },
    {
      "cell_type": "markdown",
      "metadata": {
        "id": "suy-fRZ4J_P7",
        "colab_type": "text"
      },
      "source": [
        "出力は、①距離と②経路を出力してください\n",
        "\n",
        "②経路は、ノードのアルファベットを数字に置き換えてもらって構いません。ただし、A:0, B:1...と対応させてください\n",
        "\n",
        "以下に解答を記入してください\n",
        "\n",
        "ただし、適宜コメントアウトで解説を入れてください"
      ]
    },
    {
      "cell_type": "markdown",
      "metadata": {
        "id": "wFny7-wQWw0e",
        "colab_type": "text"
      },
      "source": [
        ""
      ]
    },
    {
      "cell_type": "code",
      "metadata": {
        "id": "ca-LdCfbkA9T",
        "colab_type": "code",
        "colab": {
          "base_uri": "https://localhost:8080/",
          "height": 102
        },
        "outputId": "59b75f83-2010-4a3e-d11a-ef369e45386b"
      },
      "source": [
        "route_list = [\n",
        "    [0, 1, 3, 8, 0, 0, 0],\n",
        "    [0, 0, 0, 6, 0, 9, 0],\n",
        "    [0, 0, 0, 0, 4, 0, 0],\n",
        "    [0, 0, 0, 0, 0, 1, 0],\n",
        "    [0, 0, 0, 2, 0, 0, 0],\n",
        "    [0, 0, 0, 0, 0, 0, 3],\n",
        "    [0, 0, 0, 0, 0, 0, 0]\n",
        "]\n",
        "\n",
        "\n",
        "import math\n",
        "import numpy as np\n",
        "node_num = len(route_list) #ノードの数()\n",
        "unsearched_nodes = list(range(node_num)) # 未探索ノードを集めたリスト（0から始まることに注意）(Sbar)\n",
        "distance = [math.inf] * node_num # そのノードまでの最短距離をまとめたリスト(d)\n",
        "distance[0] = 0 # スタート地点のノードの距離は0にする()\n",
        "previous_nodes = [-1] * node_num # 最短経路でそのノードのひとつ前に到達するノードのリスト(pj)\n",
        "\n",
        "\n",
        "while len(unsearched_nodes) != 0: #未探索ノードがなくなるまで繰り返す\n",
        "    #未探索ノードのdistanceが最小のものを選択する\n",
        "    min_distance = math.inf #最小のdistanceを見つけるためとりあえずinfを入れる\n",
        "    for i in unsearched_nodes: #未探索のノード\n",
        "        if min_distance > distance[i]: \n",
        "            min_distance = distance[i] #より小さい値が見つかれば更新してmin_distanceのminを求める\n",
        "\n",
        "\n",
        "    counter = 0 #検索を開始する位置\n",
        "    while True:\n",
        "      j = distance.index(min_distance, counter) #jはindex\n",
        "      \n",
        "      if j in unsearched_nodes:\n",
        "        min_index = j #未探索のノードで距離が最小(min_distance)の時のindexを取得\n",
        "        break\n",
        "      else:\n",
        "        counter = j + 1\n",
        "\n",
        "    unsearched_nodes.remove(min_index) #このノードから探索、このノードは未探索リストから除去\n",
        "\n",
        "    edge = route_list[min_index] #探索中のノードから伸びるエッジのリスト\n",
        "    for k, route_distance in enumerate(edge):#kはindex\n",
        "        if route_distance != 0:#ノードがつながっていない場合pass\n",
        "            if distance[k] > distance[min_index] + route_distance:\n",
        "                distance[k] = distance[min_index] + route_distance #過去に設定されたdistanceよりも小さい場合は更新\n",
        "                previous_nodes[k] =  min_index #1個前のノードのリストを更新\n",
        "\n",
        "# 以下で結果の表示\n",
        "print('previous_nodes:',previous_nodes,'distance',distance)\n",
        "\n",
        "print(\"経路:\")\n",
        "\n",
        "previous_node = node_num - 1 #6\n",
        "\n",
        "route = []#前のノードをリストにする\n",
        "while previous_node != -1:\n",
        "    if previous_node !=0:\n",
        "        route.append((previous_node))      \n",
        "    else:\n",
        "        route.append((previous_node))\n",
        "    previous_node = previous_nodes[previous_node]\n",
        "\n",
        "route.sort()#小さい順にする\n",
        "\n",
        "for i in list(route):\n",
        "  if i != node_num -1:\n",
        "    print(str(i) + '->',end = '')\n",
        "  if i == node_num -1:\n",
        "    print(str(i))\n",
        "\n",
        "print(\"距離:\")\n",
        "print(distance[-1])"
      ],
      "execution_count": 93,
      "outputs": [
        {
          "output_type": "stream",
          "text": [
            "previous_nodes: [-1, 0, 0, 1, 2, 3, 5] distance [0, 1, 3, 7, 7, 8, 11]\n",
            "経路:\n",
            "0->1->3->5->6\n",
            "距離:\n",
            "11\n"
          ],
          "name": "stdout"
        }
      ]
    }
  ]
}